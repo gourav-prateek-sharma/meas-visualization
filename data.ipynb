{
 "cells": [
  {
   "cell_type": "code",
   "execution_count": 1,
   "id": "ea59cbed-fb48-4537-9ea1-209b27a0c670",
   "metadata": {},
   "outputs": [],
   "source": [
    "import sys\n",
    "sys.path.append('../edaf')"
   ]
  },
  {
   "cell_type": "code",
   "execution_count": 2,
   "id": "4b9e5a62-27eb-43a8-b1c7-32e1bcc75a90",
   "metadata": {},
   "outputs": [],
   "source": [
    "from plot_helpers import *\n",
    "from data_helpers import *\n",
    "from decomp import *\n",
    "from sortedcontainers import SortedList, SortedDict\n",
    "from loguru import logger\n",
    "import os, sys, gzip, json\n",
    "import sqlite3\n",
    "import pandas as pd\n",
    "from edaf.core.uplink.preprocess import preprocess_ul\n",
    "from edaf.core.uplink.analyze_packet import ULPacketAnalyzer\n",
    "from edaf.core.uplink.analyze_channel import ULChannelAnalyzer\n",
    "from edaf.core.uplink.analyze_scheduling import ULSchedulingAnalyzer\n",
    "import matplotlib.pyplot as plt\n",
    "import matplotlib.patches as patches\n",
    "from IPython.display import JSON\n",
    "import json\n",
    "\n",
    "\n",
    "from pathlib import Path\n",
    "import ijson\n",
    "\n",
    "%load_ext autoreload\n",
    "%autoreload 2"
   ]
  },
  {
   "cell_type": "code",
   "execution_count": 3,
   "id": "ac76e8c3-369c-4f0c-87d2-9d6a7a795558",
   "metadata": {},
   "outputs": [
    {
     "data": {
      "text/plain": [
       "16"
      ]
     },
     "execution_count": 3,
     "metadata": {},
     "output_type": "execute_result"
    }
   ],
   "source": [
    "# Remove default handler\n",
    "logger.remove()\n",
    "# Add a new handler with level WARNING\n",
    "logger.add(sys.stdout, level=\"ERROR\")"
   ]
  },
  {
   "cell_type": "code",
   "execution_count": 4,
   "id": "96ac12ed-b8be-4274-9394-5dbbbd718acd",
   "metadata": {},
   "outputs": [],
   "source": [
    "MEAS_DIR = '../S1-meas/' ### change the paths here\n",
    "DATA_DIR_PREFIX = './data/'\n",
    "SKIP_INITIAL_PACKETS = 5\n",
    "SKIP_LAST_PACKETS = 5"
   ]
  },
  {
   "cell_type": "code",
   "execution_count": 5,
   "id": "143be58d-abdf-43ce-9767-acfe07c9aab4",
   "metadata": {},
   "outputs": [
    {
     "name": "stdout",
     "output_type": "stream",
     "text": [
      "processing ../S1-meas/s59/res_db.sql\n",
      "Processing packet 2000/2000 (100.00%) with ip_id: 2000\n"
     ]
    }
   ],
   "source": [
    "for i in [59]:\n",
    "    MEAS_LABEL = f's{i}'\n",
    "    DB_FILE = MEAS_DIR+MEAS_LABEL+'/'+'res_db.sql'\n",
    "    DATA_DIR = DATA_DIR_PREFIX+MEAS_LABEL+'/'\n",
    "    \n",
    "    # Ensure the DATA_DIR exists\n",
    "    if not os.path.exists(DATA_DIR):\n",
    "        os.makedirs(DATA_DIR)\n",
    "    \n",
    "    if not os.path.exists(DB_FILE):\n",
    "        print(f'skipping, {DB_FILE} does not exist')\n",
    "        continue\n",
    "        \n",
    "    print(f'processing {DB_FILE}')\n",
    "    # packet analyzer\n",
    "    analyzer = ULPacketAnalyzer(DB_FILE)\n",
    "    #uids_arr = range(analyzer.first_ueipid+SKIP_INITIAL_PACKETS, analyzer.last_ueipid-SKIP_LAST_PACKETS)\n",
    "    uids_arr = range(2000, 4000)\n",
    "    packets = analyzer.figure_packettx_from_ueipids(uids_arr)\n",
    "    packets_rnti_set = set([item['rlc.attempts'][0]['rnti'] for item in packets])\n",
    "    \n",
    "    # create json\n",
    "    create_json_dump(packets, DATA_DIR+'packets.json')\n",
    "\n",
    "    # sched analyzer\n",
    "    sched_analyzer = ULSchedulingAnalyzer(\n",
    "        total_prbs_num = 106, \n",
    "        symbols_per_slot = 14, \n",
    "        slots_per_frame = 20, \n",
    "        slots_duration_ms = 0.5, \n",
    "        scheduling_map_num_integers = 4,\n",
    "        max_num_frames=100,\n",
    "        db_addr = DB_FILE\n",
    "    )\n",
    "    \n",
    "    begin_ts = packets[0]['ip.in_t'] - 0.1 #sched_analyzer.first_ts\n",
    "    end_ts = packets[-1]['ip.in_t'] + 0.1 #sched_analyzer.last_ts\n",
    "    sched_arr = sched_analyzer.find_resource_schedules_from_ts(begin_ts, end_ts)\n",
    "    sched_sorted_dict = SortedDict({sched['decision_ts']: sched for sched in sched_arr})\n",
    "    bsrupd_arr = sched_analyzer.find_bsr_upd_from_ts(begin_ts, end_ts)\n",
    "    sr_tx_arr = sched_analyzer.find_sr_tx_from_ts(begin_ts, end_ts)\n",
    "    bsr_tx_arr = sched_analyzer.find_bsr_tx_from_ts(begin_ts, end_ts)\n",
    "    sr_bsr_tx_sorted_list = SortedList([sr_tx['timestamp'] for sr_tx in sr_tx_arr]+[bsr_tx['timestamp'] for bsr_tx in bsr_tx_arr])\n",
    "    # create jsons\n",
    "    create_json_dump(sr_tx_arr, DATA_DIR+'sr_tx.json')\n",
    "    create_json_dump(bsrupd_arr, DATA_DIR+'bsr_upd.json')\n",
    "    create_json_dump(bsr_tx_arr, DATA_DIR+'bsr_tx.json')    \n",
    "   \n",
    "    chan_analyzer = ULChannelAnalyzer(DB_FILE)\n",
    "    #begin_ts = chan_analyzer.first_ts\n",
    "    #end_ts = chan_analyzer.last_ts\n",
    "    WINDOW_LEN_SECONDS = 2\n",
    "    mcs_arr_all = chan_analyzer.find_mcs_from_ts(begin_ts,end_ts)\n",
    "    if list(packets_rnti_set)[0]!=None:\n",
    "        mcs_arr = [mcs for mcs in mcs_arr_all if mcs['rnti']==list(packets_rnti_set)[0]]\n",
    "    else:\n",
    "        mcs_arr = mcs_arr_all\n",
    "    tb_arr = chan_analyzer.find_mac_attempts_from_ts(begin_ts,end_ts)\n",
    "    mcs_sorted_dict = SortedDict({e['timestamp']: e['mcs'] for e in mcs_arr})\n",
    "\n",
    "    create_json_dump(sched_arr, DATA_DIR+'sched.json')\n",
    "    create_json_dump(mcs_arr, DATA_DIR+'mcs.json')\n",
    "    create_json_dump(tb_arr, DATA_DIR+'tb.json')"
   ]
  },
  {
   "cell_type": "code",
   "execution_count": null,
   "id": "0ca2d0e1-4d3a-47b4-be61-41d5e9e58368",
   "metadata": {},
   "outputs": [],
   "source": []
  }
 ],
 "metadata": {
  "kernelspec": {
   "display_name": "Python 3 (ipykernel)",
   "language": "python",
   "name": "python3"
  },
  "language_info": {
   "codemirror_mode": {
    "name": "ipython",
    "version": 3
   },
   "file_extension": ".py",
   "mimetype": "text/x-python",
   "name": "python",
   "nbconvert_exporter": "python",
   "pygments_lexer": "ipython3",
   "version": "3.10.12"
  }
 },
 "nbformat": 4,
 "nbformat_minor": 5
}
