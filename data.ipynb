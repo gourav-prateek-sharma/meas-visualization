{
 "cells": [
  {
   "cell_type": "code",
   "execution_count": 1,
   "id": "ea59cbed-fb48-4537-9ea1-209b27a0c670",
   "metadata": {},
   "outputs": [],
   "source": [
    "import sys\n",
    "sys.path.append('../edaf')"
   ]
  },
  {
   "cell_type": "code",
   "execution_count": 2,
   "id": "4b9e5a62-27eb-43a8-b1c7-32e1bcc75a90",
   "metadata": {},
   "outputs": [],
   "source": [
    "from plot_helpers import *\n",
    "from data_helpers import *\n",
    "from decomp import *\n",
    "from sortedcontainers import SortedList, SortedDict\n",
    "from loguru import logger\n",
    "import os, sys, gzip, json\n",
    "import sqlite3\n",
    "import pandas as pd\n",
    "from edaf.core.uplink.preprocess import preprocess_ul\n",
    "from edaf.core.uplink.analyze_packet import ULPacketAnalyzer\n",
    "from edaf.core.uplink.analyze_channel import ULChannelAnalyzer\n",
    "from edaf.core.uplink.analyze_scheduling import ULSchedulingAnalyzer\n",
    "import matplotlib.pyplot as plt\n",
    "import matplotlib.patches as patches\n",
    "from IPython.display import JSON\n",
    "import json\n",
    "\n",
    "\n",
    "from pathlib import Path\n",
    "import ijson\n",
    "\n",
    "%load_ext autoreload\n",
    "%autoreload 2"
   ]
  },
  {
   "cell_type": "code",
   "execution_count": 3,
   "id": "ac76e8c3-369c-4f0c-87d2-9d6a7a795558",
   "metadata": {},
   "outputs": [
    {
     "data": {
      "text/plain": [
       "16"
      ]
     },
     "execution_count": 3,
     "metadata": {},
     "output_type": "execute_result"
    }
   ],
   "source": [
    "# Remove default handler\n",
    "logger.remove()\n",
    "# Add a new handler with level WARNING\n",
    "logger.add(sys.stdout, level=\"ERROR\")"
   ]
  },
  {
   "cell_type": "code",
   "execution_count": 5,
   "id": "96ac12ed-b8be-4274-9394-5dbbbd718acd",
   "metadata": {},
   "outputs": [],
   "source": [
    "MEAS_DIR = '../S1-meas/' ### change the paths here\n",
    "DATA_DIR_PREFIX = './data/'"
   ]
  },
  {
   "cell_type": "code",
   "execution_count": 7,
   "id": "143be58d-abdf-43ce-9767-acfe07c9aab4",
   "metadata": {},
   "outputs": [
    {
     "name": "stdout",
     "output_type": "stream",
     "text": [
      "processing ../S1-meas/s9/res_db.sql\n",
      "\u001b[32m2024-11-01 12:24:49.092\u001b[0m | \u001b[31m\u001b[1mERROR   \u001b[0m | \u001b[36medaf.core.uplink.analyze_packet\u001b[0m:\u001b[36mfigure_packettx_from_ueipids\u001b[0m:\u001b[36m118\u001b[0m - \u001b[31m\u001b[1mUE SN 8490 for UE IP ID 1513 could not be found on GNB side. Dropped packet?\u001b[0m\n",
      "\u001b[32m2024-11-01 12:24:49.100\u001b[0m | \u001b[31m\u001b[1mERROR   \u001b[0m | \u001b[36medaf.core.uplink.analyze_packet\u001b[0m:\u001b[36mfigure_packettx_from_ueipids\u001b[0m:\u001b[36m118\u001b[0m - \u001b[31m\u001b[1mUE SN 8491 for UE IP ID 1512 could not be found on GNB side. Dropped packet?\u001b[0m\n"
     ]
    }
   ],
   "source": [
    "for i in [9]:\n",
    "    MEAS_LABEL = f's{i}'\n",
    "    DB_FILE = MEAS_DIR+MEAS_LABEL+'/'+'res_db.sql'\n",
    "    DATA_DIR = DATA_DIR_PREFIX+MEAS_LABEL+'/'\n",
    "    \n",
    "    if not os.path.exists(DB_FILE):\n",
    "        print(f'skipping, {DB_FILE} does not exist')\n",
    "        continue\n",
    "    print(f'processing {DB_FILE}')\n",
    "    # packet analyzer\n",
    "    analyzer = ULPacketAnalyzer(DB_FILE)\n",
    "    uids_arr = range(analyzer.first_ueipid, analyzer.last_ueipid+1)\n",
    "    packets = analyzer.figure_packettx_from_ueipids(uids_arr)\n",
    "    \n",
    "    # sched analyzer\n",
    "    sched_analyzer = ULSchedulingAnalyzer(\n",
    "        total_prbs_num = 106, \n",
    "        symbols_per_slot = 14, \n",
    "        slots_per_frame = 20, \n",
    "        slots_duration_ms = 0.5, \n",
    "        scheduling_map_num_integers = 4,\n",
    "        max_num_frames=100,\n",
    "        db_addr = DB_FILE\n",
    "    )\n",
    "    \n",
    "    begin_ts = sched_analyzer.first_ts\n",
    "    end_ts = sched_analyzer.last_ts\n",
    "    sched_arr = sched_analyzer.find_resource_schedules_from_ts(begin_ts, end_ts)\n",
    "    sched_sorted_dict = SortedDict({sched['decision_ts']: sched for sched in sched_arr})\n",
    "    bsrupd_arr = sched_analyzer.find_bsr_upd_from_ts(begin_ts, end_ts)\n",
    "    sr_tx_arr = sched_analyzer.find_sr_tx_from_ts(begin_ts, end_ts)\n",
    "    bsr_tx_arr = sched_analyzer.find_bsr_tx_from_ts(begin_ts, end_ts)\n",
    "    sr_bsr_tx_sorted_list = SortedList([sr_tx['timestamp'] for sr_tx in sr_tx_arr]+[bsr_tx['timestamp'] for bsr_tx in bsr_tx_arr])\n",
    "    \n",
    "    chan_analyzer = ULChannelAnalyzer(DB_FILE)\n",
    "    begin_ts = chan_analyzer.first_ts\n",
    "    end_ts = chan_analyzer.last_ts\n",
    "    WINDOW_LEN_SECONDS = 2\n",
    "    mcs_arr = chan_analyzer.find_mcs_from_ts(begin_ts,end_ts)\n",
    "    tb_arr = chan_analyzer.find_mac_attempts_from_ts(begin_ts,end_ts)\n",
    "    mcs_sorted_dict = SortedDict({e['timestamp']: e['mcs'] for e in mcs_arr})\n",
    "    \n",
    "    # Ensure the DATA_DIR exists\n",
    "    if not os.path.exists(DATA_DIR):\n",
    "        os.makedirs(DATA_DIR)\n",
    "        \n",
    "    # Call the function\n",
    "    create_json_dump(packets, DATA_DIR+'packets.json')\n",
    "    create_json_dump(sr_tx_arr, DATA_DIR+'sr_tx.json')\n",
    "    create_json_dump(bsrupd_arr, DATA_DIR+'bsr_upd.json')\n",
    "    create_json_dump(bsr_tx_arr, DATA_DIR+'bsr_tx.json')\n",
    "    create_json_dump(sched_arr, DATA_DIR+'sched.json')\n",
    "    create_json_dump(mcs_arr, DATA_DIR+'mcs.json')\n",
    "    create_json_dump(tb_arr, DATA_DIR+'tb.json')\n"
   ]
  },
  {
   "cell_type": "code",
   "execution_count": null,
   "id": "c4ec9cf8-c785-4076-b7c4-0614c9112e4c",
   "metadata": {},
   "outputs": [],
   "source": []
  }
 ],
 "metadata": {
  "kernelspec": {
   "display_name": "Python 3 (ipykernel)",
   "language": "python",
   "name": "python3"
  },
  "language_info": {
   "codemirror_mode": {
    "name": "ipython",
    "version": 3
   },
   "file_extension": ".py",
   "mimetype": "text/x-python",
   "name": "python",
   "nbconvert_exporter": "python",
   "pygments_lexer": "ipython3",
   "version": "3.10.12"
  }
 },
 "nbformat": 4,
 "nbformat_minor": 5
}
